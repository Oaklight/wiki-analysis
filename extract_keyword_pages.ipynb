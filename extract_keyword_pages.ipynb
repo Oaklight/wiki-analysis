{
 "cells": [
  {
   "cell_type": "code",
   "execution_count": 2,
   "id": "044e1ade",
   "metadata": {
    "ExecuteTime": {
     "end_time": "2022-03-30T19:42:30.645077Z",
     "start_time": "2022-03-30T19:42:30.241088Z"
    }
   },
   "outputs": [],
   "source": [
    "import json\n",
    "import os\n",
    "import re\n",
    "import string\n",
    "from glob import glob\n",
    "from subprocess import check_output\n",
    "\n",
    "import mwxml\n",
    "import pandas as pd\n",
    "import nltk\n",
    "from tqdm import tqdm"
   ]
  },
  {
   "cell_type": "code",
   "execution_count": 3,
   "id": "6c19c2de",
   "metadata": {
    "ExecuteTime": {
     "end_time": "2022-03-30T19:42:31.129744Z",
     "start_time": "2022-03-30T19:42:31.124785Z"
    }
   },
   "outputs": [
    {
     "name": "stdout",
     "output_type": "stream",
     "text": [
      "76 keywords with stems provided\n"
     ]
    }
   ],
   "source": [
    "xml_path = './shards'\n",
    "xmlfile = glob(f\"{xml_path}/*.xml-*\")\n",
    "\n",
    "xmlsingle = './enwiki-20220301-pages-articles-multistream.xml'\n",
    "index = './enwiki-20220301-pages-articles-multistream-index.txt'\n",
    "\n",
    "keywords_file = './keywords.txt'\n",
    "stemmer = nltk.stem.porter.PorterStemmer()\n",
    "with open(keywords_file, 'r') as f:\n",
    "    keywords = eval(f.read())\n",
    "    stem = [stemmer.stem(x) for x in keywords]\n",
    "    keywords = set(stem + keywords)\n",
    "    print(f'{len(keywords)} keywords with stems provided')\n",
    "\n",
    "keywords_threshold = 0\n",
    "\n",
    "nthreads = os.cpu_count()-1"
   ]
  },
  {
   "cell_type": "code",
   "execution_count": 54,
   "id": "94837b27",
   "metadata": {
    "ExecuteTime": {
     "end_time": "2022-03-30T21:35:36.611955Z",
     "start_time": "2022-03-30T21:35:36.608013Z"
    }
   },
   "outputs": [
    {
     "data": {
      "text/plain": [
       "{'achiev',\n",
       " 'achievement',\n",
       " 'afterclap',\n",
       " 'aftereffect',\n",
       " 'aftermath',\n",
       " 'aftershock',\n",
       " 'assess',\n",
       " 'assessment',\n",
       " 'backwash',\n",
       " 'blowback',\n",
       " 'by-product',\n",
       " 'causal',\n",
       " 'causality',\n",
       " 'conclus',\n",
       " 'conclusion',\n",
       " 'concuss',\n",
       " 'concussion',\n",
       " 'consequ',\n",
       " 'consequence',\n",
       " 'corollari',\n",
       " 'corollary',\n",
       " 'denouement',\n",
       " 'develop',\n",
       " 'development',\n",
       " 'echo',\n",
       " 'effect',\n",
       " 'end',\n",
       " 'epilogu',\n",
       " 'epilogue',\n",
       " 'fallout',\n",
       " 'fate',\n",
       " 'final',\n",
       " 'fruit',\n",
       " 'histor',\n",
       " 'historical',\n",
       " 'impact',\n",
       " 'imping',\n",
       " 'impingement',\n",
       " 'implic',\n",
       " 'implication',\n",
       " 'impress',\n",
       " 'impression',\n",
       " 'influenc',\n",
       " 'influence',\n",
       " 'issu',\n",
       " 'issue',\n",
       " 'jounc',\n",
       " 'jounce',\n",
       " 'mark',\n",
       " 'offshoot',\n",
       " 'outcom',\n",
       " 'outcome',\n",
       " 'outgrowth',\n",
       " 'precipit',\n",
       " 'precipitate',\n",
       " 'product',\n",
       " 'production',\n",
       " 'ramif',\n",
       " 'ramification',\n",
       " 'repercuss',\n",
       " 'repercussion',\n",
       " 'result',\n",
       " 'resultant',\n",
       " 'rippl',\n",
       " 'ripple',\n",
       " 'sequel',\n",
       " 'sequenc',\n",
       " 'sequence',\n",
       " 'side effect',\n",
       " 'side react',\n",
       " 'side reaction',\n",
       " 'signific',\n",
       " 'significance',\n",
       " 'spin-off',\n",
       " 'sway',\n",
       " 'upshot'}"
      ]
     },
     "execution_count": 54,
     "metadata": {},
     "output_type": "execute_result"
    }
   ],
   "source": [
    "keywords"
   ]
  },
  {
   "cell_type": "code",
   "execution_count": 4,
   "id": "04598bfb",
   "metadata": {
    "ExecuteTime": {
     "end_time": "2022-03-30T19:42:31.615369Z",
     "start_time": "2022-03-30T19:42:31.609996Z"
    }
   },
   "outputs": [],
   "source": [
    "punc_space = re.compile(\"[^\" + string.punctuation + \" \\t\\n\\r\\f\\v]+\")\n",
    "p = re.compile(\"{{[mM]ain(?: article)?\\|(?P<backlink>[^\\<\\[\\}]*)}}\")\n",
    "h = re.compile(\"={2,}(?P<heading>[^\\[=]*)={2,}\")\n",
    "\n",
    "def wc(filename):\n",
    "    return int(check_output([\"wc\", \"-l\", filename]).split()[0])\n",
    "\n",
    "def map_main_article(dump, path):\n",
    "    for page in dump:\n",
    "        if page.namespace == 0:\n",
    "            for rev in page:\n",
    "                links = []\n",
    "                headings = []\n",
    "                if rev.text is not None:\n",
    "                    headings = h.findall(rev.text)\n",
    "                    words = [w for hd in headings for w in punc_space.findall(hd.lower())] # stemmer.stem(w) will give more hits\n",
    "                    hit = False\n",
    "                    if keywords is not None:\n",
    "                        keywords_match = 0\n",
    "                        for each in words:\n",
    "                            if keywords_match > keywords_threshold:\n",
    "                                hit = True\n",
    "                                break\n",
    "                            if each in keywords:\n",
    "                                keywords_match += 1\n",
    "\n",
    "                    links = p.findall(rev.text)\n",
    "                    if len(links) != 0:\n",
    "                        links = [e.strip() for l in links for e in l.split('|')]\n",
    "\n",
    "                yield page.id, page.title, links, headings, words, hit\n",
    "\n",
    "        else:\n",
    "            yield None, None, None, None, None, None\n"
   ]
  },
  {
   "cell_type": "code",
   "execution_count": 5,
   "id": "77aa4e6d",
   "metadata": {
    "ExecuteTime": {
     "end_time": "2022-03-30T19:59:11.430904Z",
     "start_time": "2022-03-30T19:42:32.485190Z"
    }
   },
   "outputs": [
    {
     "name": "stderr",
     "output_type": "stream",
     "text": [
      "100%|████████████████████████████████████████████████████████████████████▉| 21895616/21895737 [16:38<00:00, 5274.14it/s]"
     ]
    }
   ],
   "source": [
    "pbar = tqdm(total=wc(index))\n",
    "\n",
    "main_articles = []\n",
    "hits = []\n",
    "count = 0\n",
    "\n",
    "for id, title, links, headings, words, hit in mwxml.map(map_main_article, xmlfile, threads=nthreads):\n",
    "    pbar.update(1)\n",
    "    \n",
    "    if id is None:\n",
    "        continue\n",
    "    \n",
    "    if len(links) != 0:\n",
    "        count += 1\n",
    "        main_articles.append((id, title, str(links), str(headings)))\n",
    "    \n",
    "    if hit:\n",
    "        hits.append((id, title, str(links), str(headings)))"
   ]
  },
  {
   "cell_type": "code",
   "execution_count": 6,
   "id": "cb286ca5",
   "metadata": {
    "ExecuteTime": {
     "end_time": "2022-03-30T20:00:51.874695Z",
     "start_time": "2022-03-30T20:00:49.091758Z"
    }
   },
   "outputs": [
    {
     "name": "stderr",
     "output_type": "stream",
     "text": [
      "\n",
      "  0%|                                                                                        | 0/284117 [00:00<?, ?it/s]\u001b[A\n",
      "  4%|██▋                                                                     | 10676/284117 [00:00<00:02, 106754.50it/s]\u001b[A\n",
      "  8%|█████▍                                                                   | 21352/284117 [00:00<00:04, 55179.80it/s]\u001b[A\n",
      " 12%|████████▍                                                                | 33073/284117 [00:00<00:03, 73962.50it/s]\u001b[A\n",
      " 16%|███████████▍                                                             | 44659/284117 [00:00<00:02, 86607.64it/s]\u001b[A\n",
      " 20%|██████████████▋                                                          | 56959/284117 [00:00<00:02, 97572.85it/s]\u001b[A\n",
      " 25%|█████████████████▊                                                      | 70064/284117 [00:00<00:01, 107645.83it/s]\u001b[A\n",
      " 29%|█████████████████████                                                   | 83006/284117 [00:00<00:01, 114191.25it/s]\u001b[A\n",
      " 33%|████████████████████████                                                | 95063/284117 [00:00<00:01, 114990.44it/s]\u001b[A\n",
      " 38%|██████████████████████████▋                                            | 107000/284117 [00:01<00:01, 115830.61it/s]\u001b[A\n",
      " 42%|██████████████████████████████▏                                         | 118887/284117 [00:01<00:01, 83066.75it/s]\u001b[A\n",
      " 46%|█████████████████████████████████▎                                      | 131678/284117 [00:01<00:01, 93490.29it/s]\u001b[A\n",
      " 51%|████████████████████████████████████                                   | 144278/284117 [00:01<00:01, 101593.39it/s]\u001b[A\n",
      " 55%|███████████████████████████████████████▎                               | 157289/284117 [00:01<00:01, 109080.92it/s]\u001b[A\n",
      " 60%|██████████████████████████████████████████▍                            | 170031/284117 [00:01<00:01, 114081.78it/s]\u001b[A\n",
      " 64%|█████████████████████████████████████████████▌                         | 182116/284117 [00:01<00:00, 113794.64it/s]\u001b[A\n",
      " 69%|████████████████████████████████████████████████▋                      | 194752/284117 [00:01<00:00, 117338.24it/s]\u001b[A\n",
      " 73%|███████████████████████████████████████████████████▊                   | 207108/284117 [00:02<00:00, 119124.13it/s]\u001b[A\n",
      " 77%|███████████████████████████████████████████████████████▌                | 219276/284117 [00:02<00:00, 84658.62it/s]\u001b[A\n",
      " 82%|██████████████████████████████████████████████████████████▊             | 231886/284117 [00:02<00:00, 94062.94it/s]\u001b[A\n",
      " 86%|█████████████████████████████████████████████████████████████          | 244317/284117 [00:02<00:00, 101466.62it/s]\u001b[A\n",
      " 90%|████████████████████████████████████████████████████████████████▏      | 256732/284117 [00:02<00:00, 107342.49it/s]\u001b[A\n",
      " 95%|███████████████████████████████████████████████████████████████████▏   | 268666/284117 [00:02<00:00, 110580.71it/s]\u001b[A\n",
      "100%|███████████████████████████████████████████████████████████████████████| 284117/284117 [00:02<00:00, 102297.63it/s]\u001b[A\n"
     ]
    }
   ],
   "source": [
    "# put all hits by main-article-trick into dict\n",
    "pool1 = {}\n",
    "repeat_pool1 = {}\n",
    "\n",
    "for each in tqdm(main_articles):\n",
    "    _, title, links, _ = each\n",
    "    links = eval(links)\n",
    "    if title not in pool1:\n",
    "        pool1[title] = links\n",
    "    else:\n",
    "        repeat_pool1[title] = links"
   ]
  },
  {
   "cell_type": "code",
   "execution_count": 8,
   "id": "14596e96",
   "metadata": {
    "ExecuteTime": {
     "end_time": "2022-03-30T20:01:08.442187Z",
     "start_time": "2022-03-30T20:01:06.192740Z"
    }
   },
   "outputs": [
    {
     "name": "stderr",
     "output_type": "stream",
     "text": [
      "\n",
      "  0%|                                                                                        | 0/402785 [00:00<?, ?it/s]\u001b[A\n",
      "  5%|███▎                                                                    | 18513/402785 [00:00<00:02, 185083.84it/s]\u001b[A\n",
      "  9%|██████▊                                                                 | 38153/402785 [00:00<00:01, 191727.19it/s]\u001b[A\n",
      " 14%|██████████▏                                                             | 57326/402785 [00:00<00:03, 104457.90it/s]\u001b[A\n",
      " 20%|██████████████                                                          | 78766/402785 [00:00<00:02, 133281.88it/s]\u001b[A\n",
      " 25%|█████████████████▊                                                     | 100744/402785 [00:00<00:01, 156850.63it/s]\u001b[A\n",
      " 31%|█████████████████████▊                                                 | 123441/402785 [00:00<00:01, 176495.69it/s]\u001b[A\n",
      " 36%|█████████████████████████▊                                             | 146169/402785 [00:00<00:01, 191011.03it/s]\u001b[A\n",
      " 42%|█████████████████████████████▊                                         | 169236/402785 [00:00<00:01, 202504.52it/s]\u001b[A\n",
      " 48%|█████████████████████████████████▊                                     | 191713/402785 [00:01<00:01, 209022.73it/s]\u001b[A\n",
      " 53%|█████████████████████████████████████▋                                 | 213566/402785 [00:01<00:01, 132712.01it/s]\u001b[A\n",
      " 58%|█████████████████████████████████████████▍                             | 235382/402785 [00:01<00:01, 150557.68it/s]\u001b[A\n",
      " 64%|█████████████████████████████████████████████▎                         | 257334/402785 [00:01<00:00, 166405.13it/s]\u001b[A\n",
      " 69%|█████████████████████████████████████████████████▏                     | 279271/402785 [00:01<00:00, 179493.75it/s]\u001b[A\n",
      " 75%|█████████████████████████████████████████████████████▏                 | 301871/402785 [00:01<00:00, 191627.81it/s]\u001b[A\n",
      " 81%|█████████████████████████████████████████████████████████▏             | 324568/402785 [00:01<00:00, 201223.43it/s]\u001b[A\n",
      " 86%|█████████████████████████████████████████████████████████████▏         | 346949/402785 [00:01<00:00, 207531.99it/s]\u001b[A\n",
      " 92%|████████████████████████████████████████████████████████████████▉      | 368745/402785 [00:02<00:00, 203899.07it/s]\u001b[A\n",
      "100%|███████████████████████████████████████████████████████████████████████| 402785/402785 [00:02<00:00, 179469.10it/s]\u001b[A\n"
     ]
    }
   ],
   "source": [
    "# put all hits by keywords into dict\n",
    "pool2 = {}\n",
    "repeat_pool2 = {}\n",
    "\n",
    "for each in tqdm(hits):\n",
    "    _, title, links, _ = each\n",
    "    links = eval(links)\n",
    "    if title not in pool2:\n",
    "        pool2[title] = links\n",
    "    else:\n",
    "        repeat_pool2[title] = links"
   ]
  },
  {
   "cell_type": "code",
   "execution_count": 9,
   "id": "5a4ea931",
   "metadata": {
    "ExecuteTime": {
     "end_time": "2022-03-30T20:01:22.683854Z",
     "start_time": "2022-03-30T20:01:22.676846Z"
    }
   },
   "outputs": [
    {
     "data": {
      "text/plain": [
       "0"
      ]
     },
     "execution_count": 9,
     "metadata": {},
     "output_type": "execute_result"
    }
   ],
   "source": [
    "len(repeat_pool1)"
   ]
  },
  {
   "cell_type": "code",
   "execution_count": 31,
   "id": "cf1eeaba",
   "metadata": {
    "ExecuteTime": {
     "end_time": "2022-03-30T20:35:05.631609Z",
     "start_time": "2022-03-30T20:35:05.627443Z"
    }
   },
   "outputs": [
    {
     "data": {
      "text/plain": [
       "['First Silesian War',\n",
       " 'Second Silesian War',\n",
       " 'Third Silesian War',\n",
       " 'First Partition of Poland',\n",
       " 'Prussian Partition',\n",
       " 'War of the Bavarian Succession']"
      ]
     },
     "execution_count": 31,
     "metadata": {},
     "output_type": "execute_result"
    }
   ],
   "source": [
    "pool1['Frederick the Great']"
   ]
  },
  {
   "cell_type": "code",
   "execution_count": 10,
   "id": "cd514ff6",
   "metadata": {
    "ExecuteTime": {
     "end_time": "2022-03-30T20:01:31.863914Z",
     "start_time": "2022-03-30T20:01:31.861360Z"
    }
   },
   "outputs": [
    {
     "data": {
      "text/plain": [
       "0"
      ]
     },
     "execution_count": 10,
     "metadata": {},
     "output_type": "execute_result"
    }
   ],
   "source": [
    "len(repeat_pool2)"
   ]
  },
  {
   "cell_type": "code",
   "execution_count": 32,
   "id": "5d05feb6",
   "metadata": {
    "ExecuteTime": {
     "end_time": "2022-03-30T20:35:22.464662Z",
     "start_time": "2022-03-30T20:35:22.454029Z"
    }
   },
   "outputs": [
    {
     "ename": "KeyError",
     "evalue": "'Frederick the Great'",
     "output_type": "error",
     "traceback": [
      "\u001b[0;31m---------------------------------------------------------------------------\u001b[0m",
      "\u001b[0;31mKeyError\u001b[0m                                  Traceback (most recent call last)",
      "Input \u001b[0;32mIn [32]\u001b[0m, in \u001b[0;36m<cell line: 1>\u001b[0;34m()\u001b[0m\n\u001b[0;32m----> 1\u001b[0m \u001b[43mpool2\u001b[49m\u001b[43m[\u001b[49m\u001b[38;5;124;43m'\u001b[39;49m\u001b[38;5;124;43mFrederick the Great\u001b[39;49m\u001b[38;5;124;43m'\u001b[39;49m\u001b[43m]\u001b[49m\n",
      "\u001b[0;31mKeyError\u001b[0m: 'Frederick the Great'"
     ]
    }
   ],
   "source": [
    "pool2['Frederick the Great'] # 关键词筛选还要修一下"
   ]
  },
  {
   "cell_type": "code",
   "execution_count": 42,
   "id": "620851f1",
   "metadata": {
    "ExecuteTime": {
     "end_time": "2022-03-30T21:17:13.694526Z",
     "start_time": "2022-03-30T21:17:13.341604Z"
    }
   },
   "outputs": [
    {
     "name": "stderr",
     "output_type": "stream",
     "text": [
      "\n",
      "  0%|                                                                                        | 0/284117 [00:00<?, ?it/s]\u001b[A\n",
      " 24%|████████████████▉                                                       | 66884/284117 [00:00<00:00, 668784.83it/s]\u001b[A\n",
      " 54%|██████████████████████████████████████▎                                | 153319/284117 [00:00<00:00, 783803.21it/s]\u001b[A\n",
      "100%|███████████████████████████████████████████████████████████████████████| 284117/284117 [00:00<00:00, 817215.24it/s]\u001b[A\n"
     ]
    }
   ],
   "source": [
    "# prune links from pool1: if articles in links also present in pool2, leave it intact\n",
    "# can have any number of keyword-hit main-article links\n",
    "pool3 = {}\n",
    "total = 0\n",
    "for title, links in tqdm(pool1.items()):\n",
    "    pruned = []\n",
    "    for l in links:\n",
    "        if l in pool2:\n",
    "            pruned.append(l)\n",
    "    if len(pruned) > 0:\n",
    "        total += len(pruned)\n",
    "        pool3[title] = pruned"
   ]
  },
  {
   "cell_type": "code",
   "execution_count": 43,
   "id": "fbe7b9b6",
   "metadata": {
    "ExecuteTime": {
     "end_time": "2022-03-30T21:17:22.968176Z",
     "start_time": "2022-03-30T21:17:22.965448Z"
    }
   },
   "outputs": [
    {
     "data": {
      "text/plain": [
       "81823"
      ]
     },
     "execution_count": 43,
     "metadata": {},
     "output_type": "execute_result"
    }
   ],
   "source": [
    "len(pool3)"
   ]
  },
  {
   "cell_type": "code",
   "execution_count": 23,
   "id": "4c252469",
   "metadata": {
    "ExecuteTime": {
     "end_time": "2022-03-30T20:23:44.018722Z",
     "start_time": "2022-03-30T20:23:44.015765Z"
    }
   },
   "outputs": [
    {
     "data": {
      "text/plain": [
       "148229"
      ]
     },
     "execution_count": 23,
     "metadata": {},
     "output_type": "execute_result"
    }
   ],
   "source": [
    "total"
   ]
  },
  {
   "cell_type": "code",
   "execution_count": 55,
   "id": "4d270590",
   "metadata": {
    "ExecuteTime": {
     "end_time": "2022-03-30T22:38:21.039560Z",
     "start_time": "2022-03-30T22:38:21.036265Z"
    }
   },
   "outputs": [
    {
     "data": {
      "text/plain": [
       "['Military campaigns of Julius Caesar',\n",
       " 'First Triumvirate',\n",
       " 'Gallic Wars',\n",
       " \"Caesar's Civil War\",\n",
       " 'Assassination of Julius Caesar',\n",
       " 'Caesarism']"
      ]
     },
     "execution_count": 55,
     "metadata": {},
     "output_type": "execute_result"
    }
   ],
   "source": [
    "pool3[\"Julius Caesar\"]"
   ]
  },
  {
   "cell_type": "code",
   "execution_count": 44,
   "id": "69425ac1",
   "metadata": {
    "ExecuteTime": {
     "end_time": "2022-03-30T21:17:32.318660Z",
     "start_time": "2022-03-30T21:17:32.119651Z"
    }
   },
   "outputs": [],
   "source": [
    "with open('pages-with-any-main-articles-with-keywords.json', 'w') as f:\n",
    "    json.dump(pool3, f)"
   ]
  },
  {
   "cell_type": "code",
   "execution_count": 45,
   "id": "7952c2e8",
   "metadata": {
    "ExecuteTime": {
     "end_time": "2022-03-30T21:17:41.854439Z",
     "start_time": "2022-03-30T21:17:41.532887Z"
    }
   },
   "outputs": [
    {
     "name": "stderr",
     "output_type": "stream",
     "text": [
      "\n",
      "  0%|                                                                                        | 0/284117 [00:00<?, ?it/s]\u001b[A\n",
      " 28%|████████████████████                                                    | 79177/284117 [00:00<00:00, 791734.89it/s]\u001b[A\n",
      " 61%|███████████████████████████████████████████▌                           | 174363/284117 [00:00<00:00, 885896.33it/s]\u001b[A\n",
      "100%|███████████████████████████████████████████████████████████████████████| 284117/284117 [00:00<00:00, 896698.66it/s]\u001b[A\n"
     ]
    }
   ],
   "source": [
    "# prune links from pool1: if articles in links are also in pool2, leave it intact\n",
    "# must have more than 1 keyword-hit main-article links\n",
    "pool4 = {}\n",
    "total = 0\n",
    "for title, links in tqdm(pool1.items()):\n",
    "    pruned = []\n",
    "    for l in links:\n",
    "        if l in pool2:\n",
    "            pruned.append(l)\n",
    "    if len(pruned) > 1:\n",
    "        total += len(pruned)\n",
    "        pool4[title] = pruned"
   ]
  },
  {
   "cell_type": "code",
   "execution_count": 46,
   "id": "e9f30767",
   "metadata": {
    "ExecuteTime": {
     "end_time": "2022-03-30T21:17:51.119024Z",
     "start_time": "2022-03-30T21:17:51.024624Z"
    }
   },
   "outputs": [],
   "source": [
    "with open('pages-with-two-main-articles-with-keywords.json', 'w') as f:\n",
    "    json.dump(pool4, f)"
   ]
  },
  {
   "cell_type": "code",
   "execution_count": 30,
   "id": "79b8b0a6",
   "metadata": {
    "ExecuteTime": {
     "end_time": "2022-03-30T20:34:31.477007Z",
     "start_time": "2022-03-30T20:34:31.473998Z"
    }
   },
   "outputs": [
    {
     "data": {
      "text/plain": [
       "['Third Silesian War',\n",
       " 'First Partition of Poland',\n",
       " 'War of the Bavarian Succession']"
      ]
     },
     "execution_count": 30,
     "metadata": {},
     "output_type": "execute_result"
    }
   ],
   "source": [
    "pool4['Frederick the Great']"
   ]
  },
  {
   "cell_type": "code",
   "execution_count": 47,
   "id": "81cfad47",
   "metadata": {
    "ExecuteTime": {
     "end_time": "2022-03-30T21:18:00.379383Z",
     "start_time": "2022-03-30T21:18:00.255098Z"
    }
   },
   "outputs": [
    {
     "name": "stderr",
     "output_type": "stream",
     "text": [
      "\n",
      "  0%|                                                                                         | 0/81823 [00:00<?, ?it/s]\u001b[A\n",
      "100%|█████████████████████████████████████████████████████████████████████████| 81823/81823 [00:00<00:00, 683696.88it/s]\u001b[A\n"
     ]
    }
   ],
   "source": [
    "# check article appearance as backlinks\n",
    "pool5 = {}\n",
    "\n",
    "for title, links in tqdm(pool3.items()):\n",
    "    for l in links:\n",
    "        if l in pool5:\n",
    "            pool5[l].add(title)\n",
    "        else:\n",
    "            pool5[l] = {title}"
   ]
  },
  {
   "cell_type": "code",
   "execution_count": 48,
   "id": "7afdee17",
   "metadata": {
    "ExecuteTime": {
     "end_time": "2022-03-30T21:18:09.545872Z",
     "start_time": "2022-03-30T21:18:09.543265Z"
    }
   },
   "outputs": [
    {
     "data": {
      "text/plain": [
       "70403"
      ]
     },
     "execution_count": 48,
     "metadata": {},
     "output_type": "execute_result"
    }
   ],
   "source": [
    "len(pool5)"
   ]
  },
  {
   "cell_type": "code",
   "execution_count": 51,
   "id": "7ba5a554",
   "metadata": {
    "ExecuteTime": {
     "end_time": "2022-03-30T21:20:37.161125Z",
     "start_time": "2022-03-30T21:20:37.118819Z"
    }
   },
   "outputs": [
    {
     "name": "stdout",
     "output_type": "stream",
     "text": [
      "24199\n"
     ]
    },
    {
     "data": {
      "text/plain": [
       "24199"
      ]
     },
     "execution_count": 51,
     "metadata": {},
     "output_type": "execute_result"
    }
   ],
   "source": [
    "more_than_one = 0\n",
    "pool6 = {}\n",
    "for title, appear in pool5.items():\n",
    "    if len(appear) > 1:\n",
    "        more_than_one += 1\n",
    "#         print(len(appear), title, appear)\n",
    "        pool6[title] = list(appear)\n",
    "print(more_than_one)\n",
    "len(pool6)"
   ]
  },
  {
   "cell_type": "code",
   "execution_count": 53,
   "id": "b42ac481",
   "metadata": {
    "ExecuteTime": {
     "end_time": "2022-03-30T21:32:14.162185Z",
     "start_time": "2022-03-30T21:32:14.159181Z"
    }
   },
   "outputs": [
    {
     "data": {
      "text/plain": [
       "['Anglo-Scottish war (1650–1652)',\n",
       " 'Scotland in the early modern period',\n",
       " 'Treaty of Ripon',\n",
       " 'Battle of Preston (1648)',\n",
       " 'History of Scotland',\n",
       " 'Charles I of England',\n",
       " 'Second English Civil War']"
      ]
     },
     "execution_count": 53,
     "metadata": {},
     "output_type": "execute_result"
    }
   ],
   "source": [
    "pool6[\"Bishops' Wars\"]"
   ]
  },
  {
   "cell_type": "code",
   "execution_count": 52,
   "id": "7d9deb4d",
   "metadata": {
    "ExecuteTime": {
     "end_time": "2022-03-30T21:20:46.448210Z",
     "start_time": "2022-03-30T21:20:46.349449Z"
    }
   },
   "outputs": [],
   "source": [
    "with open('pages-appears-more-than-once.json', 'w') as f:\n",
    "    json.dump(pool6, f)"
   ]
  },
  {
   "cell_type": "code",
   "execution_count": null,
   "id": "4378ac23",
   "metadata": {},
   "outputs": [],
   "source": []
  }
 ],
 "metadata": {
  "kernelspec": {
   "display_name": "Python [conda env:event]",
   "language": "python",
   "name": "conda-env-event-py"
  },
  "language_info": {
   "codemirror_mode": {
    "name": "ipython",
    "version": 3
   },
   "file_extension": ".py",
   "mimetype": "text/x-python",
   "name": "python",
   "nbconvert_exporter": "python",
   "pygments_lexer": "ipython3",
   "version": "3.8.12"
  },
  "toc": {
   "base_numbering": 1,
   "nav_menu": {},
   "number_sections": true,
   "sideBar": true,
   "skip_h1_title": false,
   "title_cell": "Table of Contents",
   "title_sidebar": "Contents",
   "toc_cell": false,
   "toc_position": {},
   "toc_section_display": true,
   "toc_window_display": false
  },
  "varInspector": {
   "cols": {
    "lenName": 16,
    "lenType": 16,
    "lenVar": 40
   },
   "kernels_config": {
    "python": {
     "delete_cmd_postfix": "",
     "delete_cmd_prefix": "del ",
     "library": "var_list.py",
     "varRefreshCmd": "print(var_dic_list())"
    },
    "r": {
     "delete_cmd_postfix": ") ",
     "delete_cmd_prefix": "rm(",
     "library": "var_list.r",
     "varRefreshCmd": "cat(var_dic_list()) "
    }
   },
   "types_to_exclude": [
    "module",
    "function",
    "builtin_function_or_method",
    "instance",
    "_Feature"
   ],
   "window_display": false
  }
 },
 "nbformat": 4,
 "nbformat_minor": 5
}
